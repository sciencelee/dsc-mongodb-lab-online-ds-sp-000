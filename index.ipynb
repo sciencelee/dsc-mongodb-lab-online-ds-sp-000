{
 "cells": [
  {
   "cell_type": "markdown",
   "metadata": {},
   "source": [
    "# MongoDB - Lab\n",
    "\n",
    "## Introduction\n",
    "\n",
    "In this lesson, we'll get some hands-on experience with MongoDB!\n",
    "\n",
    "## Objectives\n",
    "You will be able to: \n",
    "\n",
    "- Create a MongoDB database   \n",
    "- Insert data into a MongoDB database   \n",
    "- Read data from a MongoDB database   \n",
    "- Update data in a MongoDB database   \n",
    "\n",
    "## Getting Started\n",
    "\n",
    "To begin this lab, make sure that you start up the mongoDB server in your terminal first! **You must do this lab locally on your computer, not in Learn.**\n",
    "\n",
    "\n",
    "## Connecting to the MongoDB Database\n",
    "\n",
    "In the cell below, import the appropriate library and connect to the mongoDB server. Create a new database called `'lab_db'`."
   ]
  },
  {
   "cell_type": "code",
   "execution_count": 56,
   "metadata": {},
   "outputs": [],
   "source": [
    "import pymongo\n",
    "myclient = pymongo.MongoClient(\"mongodb://127.0.0.1:27017/\")\n",
    "mydb = myclient['lab_db']\n"
   ]
  },
  {
   "cell_type": "markdown",
   "metadata": {},
   "source": [
    "## Creating a Collection\n",
    "\n",
    "Now, create a collection called `'lab_collection'` inside `'lab_db'`."
   ]
  },
  {
   "cell_type": "code",
   "execution_count": 57,
   "metadata": {},
   "outputs": [
    {
     "data": {
      "text/plain": [
       "Collection(Database(MongoClient(host=['127.0.0.1:27017'], document_class=dict, tz_aware=False, connect=True), 'lab_db'), 'lab_collection')"
      ]
     },
     "execution_count": 57,
     "metadata": {},
     "output_type": "execute_result"
    }
   ],
   "source": [
    "mycollection = mydb['lab_collection']\n",
    "mycollection.delete_many({})  # just to reset the db\n",
    "mycollection"
   ]
  },
  {
   "cell_type": "markdown",
   "metadata": {},
   "source": [
    "## Adding Some Data\n",
    "\n",
    "Now, we're going to add some example records into our database. In the cells below, create dictionary representations of the following customer records:\n",
    "\n",
    "\n",
    "|     Name     |            Email           |  Mailing_Address  | Balance |                         Notes                         |\n",
    "|:------------:|:--------------------------:|:-----------------:|:-------:|:-----------------------------------------------------:|\n",
    "|  John Smith  |    j.smith@thesmiths.com   | 123 mulberry lane |   0.0   |    Called technical support, issue not yet resolved   |\n",
    "|  Jane Smith  |  jane_smith@thesmiths.com  |         Null          |  25.00  |                   Null                                    |\n",
    "|  Adam Enbar  | adam@theflatironschool.com |    11 Broadway    |  14.99  |           Set up on recurring billing cycle           |\n",
    "| Avi Flombaum |  avi@theflatironschool.com |    11 Broadway    |   0.0   |                   Null                                    |\n",
    "|   Steven S.  |     steven.s@gmail.net     |         Null          |  -20.23 | Refunded for overpayment due to price match guarantee |\n",
    "\n",
    "\n",
    "Your first challenge is to take all of the data in the table above and create the corresponding documents and add then to our mongo database. Note that fields that contain 'Null' should not be included in the document (recall that since mongo is schema-less, each document can be different). \n",
    "\n",
    "Create the documents from the table listed above, and then use `insert_many()` to insert them into the collection."
   ]
  },
  {
   "cell_type": "code",
   "execution_count": 58,
   "metadata": {},
   "outputs": [],
   "source": [
    "customer_1 = {\"Name\": \"John Smith\", \"Email\": 'j.smith@thesmiths.com', 'Mailing_Address': '123 mulberry lane', 'Balance': 0.0, 'Note': 'Called technical support, issue not yet resolved'}\n",
    "customer_2 = {\"Name\": \"Jane Smith\", \"Email\": 'jane_smith@thesmiths.com', 'Balance': 25.0}\n",
    "customer_3 = {\"Name\": \"Adam Enbar\", \"Email\": 'adam@theflatironschool.com', 'Mailing_Address': '11 Broadway', 'Balance': 14.99, 'Note': 'Set up on recurring billing cycle'}\n",
    "customer_4 = {\"Name\": \"Avi Flombaum\", \"Email\": 'avi@theflatironschool.com', 'Mailing_Address': '11 Broadway', 'Balance': 0.0, }\n",
    "customer_5 = {\"Name\": \"Steven S.\", \"Email\": 'steven.s@gmail.net\t', 'Balance': -20.23, 'Note': 'Refunded for overpayment due to price match guarantee'}\n",
    "all_records = [customer_1, customer_2, customer_3, customer_4, customer_5]\n",
    "\n",
    "insertion_results = mycollection.insert_many(all_records)\n",
    "\n",
    "\n",
    "\n",
    "\n"
   ]
  },
  {
   "cell_type": "markdown",
   "metadata": {},
   "source": [
    "Now, access the appropriate attribute from the results object returned from the insertion to see the unique IDs for each record inserted, so that we can confirm each were inserted correctly. "
   ]
  },
  {
   "cell_type": "code",
   "execution_count": 59,
   "metadata": {},
   "outputs": [
    {
     "data": {
      "text/plain": [
       "[ObjectId('5ea8f7236d5ea97328522fa5'),\n",
       " ObjectId('5ea8f7236d5ea97328522fa6'),\n",
       " ObjectId('5ea8f7236d5ea97328522fa7'),\n",
       " ObjectId('5ea8f7236d5ea97328522fa8'),\n",
       " ObjectId('5ea8f7236d5ea97328522fa9')]"
      ]
     },
     "execution_count": 59,
     "metadata": {},
     "output_type": "execute_result"
    }
   ],
   "source": [
    "insertion_results.inserted_ids"
   ]
  },
  {
   "cell_type": "markdown",
   "metadata": {},
   "source": [
    "## Querying and Filtering\n",
    "\n",
    "In the cell below, return the name and email address for every customer record. Then, print every item from the query to show that it worked correctly. "
   ]
  },
  {
   "cell_type": "code",
   "execution_count": 60,
   "metadata": {},
   "outputs": [
    {
     "name": "stdout",
     "output_type": "stream",
     "text": [
      "{'_id': ObjectId('5ea8f7236d5ea97328522fa5'), 'Name': 'John Smith', 'Email': 'j.smith@thesmiths.com', 'Mailing_Address': '123 mulberry lane', 'Balance': 0.0, 'Note': 'Called technical support, issue not yet resolved'}\n",
      "{'_id': ObjectId('5ea8f7236d5ea97328522fa6'), 'Name': 'Jane Smith', 'Email': 'jane_smith@thesmiths.com', 'Balance': 25.0}\n",
      "{'_id': ObjectId('5ea8f7236d5ea97328522fa7'), 'Name': 'Adam Enbar', 'Email': 'adam@theflatironschool.com', 'Mailing_Address': '11 Broadway', 'Balance': 14.99, 'Note': 'Set up on recurring billing cycle'}\n",
      "{'_id': ObjectId('5ea8f7236d5ea97328522fa8'), 'Name': 'Avi Flombaum', 'Email': 'avi@theflatironschool.com', 'Mailing_Address': '11 Broadway', 'Balance': 0.0}\n",
      "{'_id': ObjectId('5ea8f7236d5ea97328522fa9'), 'Name': 'Steven S.', 'Email': 'steven.s@gmail.net\\t', 'Balance': -20.23, 'Note': 'Refunded for overpayment due to price match guarantee'}\n"
     ]
    }
   ],
   "source": [
    "query_1 = mycollection.find({})\n",
    "\n",
    "for record in query_1:\n",
    "    print(record)\n"
   ]
  },
  {
   "cell_type": "markdown",
   "metadata": {},
   "source": [
    "Great! Now, let's write a query that gets an individual record based on a stored key-value pair a document contains. \n",
    "\n",
    "In the cell below, write a query to get the record for `'John Smith'` by using his name. Then, print the results of the query to demonstrate that it worked correctly.  "
   ]
  },
  {
   "cell_type": "code",
   "execution_count": 61,
   "metadata": {},
   "outputs": [
    {
     "name": "stdout",
     "output_type": "stream",
     "text": [
      "{'_id': ObjectId('5ea8f7236d5ea97328522fa5'), 'Name': 'John Smith', 'Email': 'j.smith@thesmiths.com', 'Mailing_Address': '123 mulberry lane', 'Balance': 0.0, 'Note': 'Called technical support, issue not yet resolved'}\n"
     ]
    }
   ],
   "source": [
    "query_2 = mycollection.find({'Name':'John Smith'})\n",
    "\n",
    "for record in query_2:\n",
    "    print(record)\n"
   ]
  },
  {
   "cell_type": "markdown",
   "metadata": {},
   "source": [
    "Great! Now, write a query to get the names, email addresses, and balances for customers that have a balance greater than 0. Use a modifier to do this. \n",
    "\n",
    "**_HINT_**: In the query below, you'll be passing in two separate dictionaries. The first one defines the logic of the query, while the second tells which fields we want returned. "
   ]
  },
  {
   "cell_type": "code",
   "execution_count": 62,
   "metadata": {},
   "outputs": [
    {
     "name": "stdout",
     "output_type": "stream",
     "text": [
      "{'_id': ObjectId('5ea8f7236d5ea97328522fa5'), 'Name': 'John Smith', 'Email': 'j.smith@thesmiths.com'}\n",
      "{'_id': ObjectId('5ea8f7236d5ea97328522fa6'), 'Name': 'Jane Smith', 'Email': 'jane_smith@thesmiths.com'}\n",
      "{'_id': ObjectId('5ea8f7236d5ea97328522fa7'), 'Name': 'Adam Enbar', 'Email': 'adam@theflatironschool.com'}\n",
      "{'_id': ObjectId('5ea8f7236d5ea97328522fa8'), 'Name': 'Avi Flombaum', 'Email': 'avi@theflatironschool.com'}\n",
      "{'_id': ObjectId('5ea8f7236d5ea97328522fa9'), 'Name': 'Steven S.', 'Email': 'steven.s@gmail.net\\t'}\n"
     ]
    }
   ],
   "source": [
    "query_3 = mycollection.find({}, {'Name', 'Email'})\n",
    "for record in query_3:\n",
    "    print(record)\n"
   ]
  },
  {
   "cell_type": "markdown",
   "metadata": {},
   "source": [
    "## Updating a Record\n",
    "\n",
    "Now, let's update some records. In the cell below. set the mailing address for `'John Smith'` to `'367 55th St., apt 2A'`."
   ]
  },
  {
   "cell_type": "code",
   "execution_count": 63,
   "metadata": {},
   "outputs": [
    {
     "name": "stdout",
     "output_type": "stream",
     "text": [
      "{'_id': ObjectId('5ea8f7236d5ea97328522fa5'), 'Name': 'John Smith', 'Email': 'j.smith@thesmiths.com', 'Mailing_Address': '367 55th St., apt 2A', 'Balance': 0.0, 'Note': 'Called technical support, issue not yet resolved'}\n"
     ]
    }
   ],
   "source": [
    "record_to_update_1 = {\"Name\": \"John Smith\"}\n",
    "update_1 = {\"$set\": {\"Mailing_Address\": \"367 55th St., apt 2A\"}}\n",
    "\n",
    "mycollection.update_one(record_to_update_1, update_1)\n",
    "result = mycollection.find({\"Name\": \"John Smith\"})\n",
    "for x in result:\n",
    "    print(x)\n"
   ]
  },
  {
   "cell_type": "markdown",
   "metadata": {},
   "source": [
    "Now, write a query to check that the update worked for this document in the cell below:  "
   ]
  },
  {
   "cell_type": "code",
   "execution_count": 64,
   "metadata": {},
   "outputs": [
    {
     "name": "stdout",
     "output_type": "stream",
     "text": [
      "<pymongo.cursor.Cursor object at 0x10d3a0278>\n",
      "{'_id': ObjectId('5ea8f7236d5ea97328522fa5'), 'Name': 'John Smith', 'Email': 'j.smith@thesmiths.com', 'Mailing_Address': '367 55th St., apt 2A', 'Balance': 0.0, 'Note': 'Called technical support, issue not yet resolved'}\n"
     ]
    }
   ],
   "source": [
    "query_4 = mycollection.find({\"Name\": \"John Smith\"})\n",
    "print(query_4)\n",
    "for x in query_4:\n",
    "    print(x)"
   ]
  },
  {
   "cell_type": "markdown",
   "metadata": {},
   "source": [
    "Now, let's assume that we want to add birthdays for each customer record. Consider the following table:\n",
    "\n",
    "|     Name     |  Birthday  |\n",
    "|:------------:|:----------:|\n",
    "|  John Smith  | 02/20/1986 |\n",
    "|  Jane Smith  | 07/07/1983 |\n",
    "|  Adam Enbar  | 12/02/1982 |\n",
    "| Avi Flombaum | 04/17/1983 |\n",
    "|   Steven S.  | 08/30/1991 |\n",
    "\n",
    "We want to add birthdays for each person, but we want to do so in a way where we don't have to do the same repetitive task over and over again. This seems like a good opportunity to write a function to handle some of the logic for us!\n",
    "\n",
    "In the cell below:\n",
    "\n",
    "* Store the names in the `names_list` variable as a list.\n",
    "* Store the birthdays in the `birthdays_list` variable as a list.\n",
    "* Write a function that takes in the two different lists, and updates each record by adding in the appropriate key-value pair containing that user's birthday.\n",
    "\n",
    "**_Hint:_** There are several ways that you could write this, depending on whether you want to use the `update_one()` method or the `update_many()` method. See if you can figure out both approaches!"
   ]
  },
  {
   "cell_type": "code",
   "execution_count": 68,
   "metadata": {},
   "outputs": [],
   "source": [
    "names_list = [\"John Smith\", \n",
    "              \"Jane Smith\",\n",
    "              \"Adam Enbar\",\n",
    "              \"Avi Flombaum\",\n",
    "              \"Steven S.\"\n",
    "             ]\n",
    "birthdays_list = ['02/20/1986', '07/07/1983', '12/02/1982', '04/17/1983', '08/30/1991']\n",
    "\n",
    "def update_birthdays(names, birthdays):\n",
    "    bday = list(zip(names, birthdays))\n",
    "    for x in bday:\n",
    "        mycollection.update_one({\"Name\": x[0]}, {\"$set\": {\"Birthday\": x[1]}})\n",
    "        \n",
    "update_birthdays(names_list, birthdays_list)"
   ]
  },
  {
   "cell_type": "markdown",
   "metadata": {},
   "source": [
    "Now, write a query to check your work and see that the birthdays were added correctly."
   ]
  },
  {
   "cell_type": "code",
   "execution_count": 69,
   "metadata": {},
   "outputs": [
    {
     "name": "stdout",
     "output_type": "stream",
     "text": [
      "{'_id': ObjectId('5ea8f7236d5ea97328522fa5'), 'Name': 'John Smith', 'Email': 'j.smith@thesmiths.com', 'Mailing_Address': '367 55th St., apt 2A', 'Balance': 0.0, 'Note': 'Called technical support, issue not yet resolved', 'Birthday': '02/20/1986'}\n",
      "{'_id': ObjectId('5ea8f7236d5ea97328522fa6'), 'Name': 'Jane Smith', 'Email': 'jane_smith@thesmiths.com', 'Balance': 25.0, 'Birthday': '07/07/1983'}\n",
      "{'_id': ObjectId('5ea8f7236d5ea97328522fa7'), 'Name': 'Adam Enbar', 'Email': 'adam@theflatironschool.com', 'Mailing_Address': '11 Broadway', 'Balance': 14.99, 'Note': 'Set up on recurring billing cycle', 'Birthday': '12/02/1982'}\n",
      "{'_id': ObjectId('5ea8f7236d5ea97328522fa8'), 'Name': 'Avi Flombaum', 'Email': 'avi@theflatironschool.com', 'Mailing_Address': '11 Broadway', 'Balance': 0.0, 'Birthday': '04/17/1983'}\n",
      "{'_id': ObjectId('5ea8f7236d5ea97328522fa9'), 'Name': 'Steven S.', 'Email': 'steven.s@gmail.net\\t', 'Balance': -20.23, 'Note': 'Refunded for overpayment due to price match guarantee', 'Birthday': '08/30/1991'}\n"
     ]
    }
   ],
   "source": [
    "for x in mycollection.find({}):\n",
    "    print(x)"
   ]
  },
  {
   "cell_type": "markdown",
   "metadata": {},
   "source": [
    "Great! It looks like the birthdays have been successfully added to every record correctly!\n",
    "\n",
    "## Summary\n",
    "\n",
    "In this lesson, we got some hands-on practice working with MongoDB!"
   ]
  }
 ],
 "metadata": {
  "kernelspec": {
   "display_name": "Python 3",
   "language": "python",
   "name": "python3"
  },
  "language_info": {
   "codemirror_mode": {
    "name": "ipython",
    "version": 3
   },
   "file_extension": ".py",
   "mimetype": "text/x-python",
   "name": "python",
   "nbconvert_exporter": "python",
   "pygments_lexer": "ipython3",
   "version": "3.6.9"
  }
 },
 "nbformat": 4,
 "nbformat_minor": 2
}
